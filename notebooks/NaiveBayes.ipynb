{
  "nbformat": 4,
  "nbformat_minor": 0,
  "metadata": {
    "anaconda-cloud": {},
    "kernelspec": {
      "display_name": "Python 3",
      "language": "python",
      "name": "python3"
    },
    "language_info": {
      "codemirror_mode": {
        "name": "ipython",
        "version": 3
      },
      "file_extension": ".py",
      "mimetype": "text/x-python",
      "name": "python",
      "nbconvert_exporter": "python",
      "pygments_lexer": "ipython3",
      "version": "3.7.3"
    },
    "colab": {
      "name": "NaiveBayes.ipynb",
      "provenance": [],
      "collapsed_sections": [],
      "include_colab_link": true
    }
  },
  "cells": [
    {
      "cell_type": "markdown",
      "metadata": {
        "id": "view-in-github",
        "colab_type": "text"
      },
      "source": [
        "<a href=\"https://colab.research.google.com/github/mattjacobs23/IntroML/blob/main/NaiveBayes.ipynb\" target=\"_parent\"><img src=\"https://colab.research.google.com/assets/colab-badge.svg\" alt=\"Open In Colab\"/></a>"
      ]
    },
    {
      "cell_type": "markdown",
      "metadata": {
        "id": "1-mWCdjnET33"
      },
      "source": [
        "# Chapter 6 - Other Popular Machine Learning Methods\n",
        "## Segment 5 - Naive Bayes Classifiers"
      ]
    },
    {
      "cell_type": "code",
      "metadata": {
        "id": "x3J7J716ET39"
      },
      "source": [
        "import numpy as np\n",
        "import pandas as pd\n",
        "import urllib\n",
        "import sklearn\n",
        "\n",
        "from sklearn.model_selection import train_test_split\n",
        "from sklearn import metrics\n",
        "from sklearn.metrics import accuracy_score"
      ],
      "execution_count": null,
      "outputs": []
    },
    {
      "cell_type": "code",
      "metadata": {
        "id": "0UtwusFBET3-"
      },
      "source": [
        "from sklearn.naive_bayes import BernoulliNB\n",
        "from sklearn.naive_bayes import GaussianNB\n",
        "from sklearn.naive_bayes import MultinomialNB"
      ],
      "execution_count": null,
      "outputs": []
    },
    {
      "cell_type": "markdown",
      "metadata": {
        "id": "SGZif2iFET3-"
      },
      "source": [
        "## Naive Bayes\n",
        "### Using Naive Bayes to predict spam"
      ]
    },
    {
      "cell_type": "code",
      "metadata": {
        "scrolled": true,
        "colab": {
          "base_uri": "https://localhost:8080/"
        },
        "id": "DBL_OgU_ET3-",
        "outputId": "fa3a3ba8-9889-4b8e-ea58-d62f3461c69e"
      },
      "source": [
        "url = \"https://archive.ics.uci.edu/ml/machine-learning-databases/spambase/spambase.data\"\n",
        "\n",
        "import urllib.request\n",
        "\n",
        "raw_data = urllib.request.urlopen(url)\n",
        "dataset = np.loadtxt(raw_data, delimiter=',')\n",
        "print(dataset[0])"
      ],
      "execution_count": null,
      "outputs": [
        {
          "output_type": "stream",
          "text": [
            "[  0.      0.64    0.64    0.      0.32    0.      0.      0.      0.\n",
            "   0.      0.      0.64    0.      0.      0.      0.32    0.      1.29\n",
            "   1.93    0.      0.96    0.      0.      0.      0.      0.      0.\n",
            "   0.      0.      0.      0.      0.      0.      0.      0.      0.\n",
            "   0.      0.      0.      0.      0.      0.      0.      0.      0.\n",
            "   0.      0.      0.      0.      0.      0.      0.778   0.      0.\n",
            "   3.756  61.    278.      1.   ]\n"
          ],
          "name": "stdout"
        }
      ]
    },
    {
      "cell_type": "code",
      "metadata": {
        "id": "P3AILHX7ET3_"
      },
      "source": [
        "X = dataset[:,0:48] #these are the 48 features which describe word frequency counts\n",
        "\n",
        "y = dataset[:,-1] #labels datasets as spam or not spam"
      ],
      "execution_count": null,
      "outputs": []
    },
    {
      "cell_type": "code",
      "metadata": {
        "id": "2URl1gRpET4A"
      },
      "source": [
        "X_train, X_test, y_train, y_test = train_test_split(X, y, test_size=.2, random_state=17)"
      ],
      "execution_count": null,
      "outputs": []
    },
    {
      "cell_type": "code",
      "metadata": {
        "colab": {
          "base_uri": "https://localhost:8080/"
        },
        "id": "z-gU88bIET4A",
        "outputId": "714de075-f369-4a58-98e5-4db3f71c4e60"
      },
      "source": [
        "BernNB = BernoulliNB(binarize=True) # does binning. Bernoulli converts frequency count to binary values\n",
        "BernNB.fit(X_train, y_train)\n",
        "print(BernNB)\n",
        "\n",
        "y_expect = y_test\n",
        "y_pred = BernNB.predict(X_test)\n",
        "\n",
        "print(accuracy_score(y_expect, y_pred))"
      ],
      "execution_count": null,
      "outputs": [
        {
          "output_type": "stream",
          "text": [
            "BernoulliNB(alpha=1.0, binarize=True, class_prior=None, fit_prior=True)\n",
            "0.8577633007600435\n"
          ],
          "name": "stdout"
        }
      ]
    },
    {
      "cell_type": "code",
      "metadata": {
        "colab": {
          "base_uri": "https://localhost:8080/"
        },
        "id": "XZ5VHAbmET4A",
        "outputId": "63e4345d-fd15-40eb-be00-9788aa258f70"
      },
      "source": [
        "MultiNB = MultinomialNB()\n",
        "MultiNB.fit(X_train, y_train)\n",
        "print(MultiNB)\n",
        "\n",
        "\n",
        "y_pred = MultiNB.predict(X_test)\n",
        "\n",
        "print(accuracy_score(y_expect, y_pred))"
      ],
      "execution_count": null,
      "outputs": [
        {
          "output_type": "stream",
          "text": [
            "MultinomialNB(alpha=1.0, class_prior=None, fit_prior=True)\n",
            "0.8816503800217155\n"
          ],
          "name": "stdout"
        }
      ]
    },
    {
      "cell_type": "code",
      "metadata": {
        "colab": {
          "base_uri": "https://localhost:8080/"
        },
        "id": "CC8ZcuG1ET4B",
        "outputId": "ad71c186-dc5c-4006-975a-b79316b7db91"
      },
      "source": [
        "GausNB = GaussianNB() # because our data sets features are all numeric we can try Gaussian\n",
        "GausNB.fit(X_train, y_train)\n",
        "print(GausNB)\n",
        "\n",
        "\n",
        "y_pred = GausNB.predict(X_test)\n",
        "\n",
        "print(accuracy_score(y_expect, y_pred))"
      ],
      "execution_count": null,
      "outputs": [
        {
          "output_type": "stream",
          "text": [
            "GaussianNB(priors=None, var_smoothing=1e-09)\n",
            "0.8197611292073833\n"
          ],
          "name": "stdout"
        }
      ]
    },
    {
      "cell_type": "code",
      "metadata": {
        "colab": {
          "base_uri": "https://localhost:8080/"
        },
        "id": "RHFAaeOrET4B",
        "outputId": "258aaec4-395f-492d-8944-d738156f61a9"
      },
      "source": [
        "BernNB = BernoulliNB(binarize=0.1) #just trial and error, binarize=0.1 gives optimal result\n",
        "BernNB.fit(X_train, y_train)\n",
        "print(BernNB)\n",
        "\n",
        "y_expect = y_test\n",
        "y_pred = BernNB.predict(X_test)\n",
        "\n",
        "print(accuracy_score(y_expect, y_pred))"
      ],
      "execution_count": null,
      "outputs": [
        {
          "output_type": "stream",
          "text": [
            "BernoulliNB(alpha=1.0, binarize=0.1, class_prior=None, fit_prior=True)\n",
            "0.9109663409337676\n"
          ],
          "name": "stdout"
        }
      ]
    },
    {
      "cell_type": "code",
      "metadata": {
        "id": "sd10HwTbET4B"
      },
      "source": [
        ""
      ],
      "execution_count": null,
      "outputs": []
    }
  ]
}
