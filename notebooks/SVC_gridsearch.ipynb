{
  "nbformat": 4,
  "nbformat_minor": 0,
  "metadata": {
    "kernelspec": {
      "display_name": "Python 3",
      "language": "python",
      "name": "python3"
    },
    "language_info": {
      "codemirror_mode": {
        "name": "ipython",
        "version": 3
      },
      "file_extension": ".py",
      "mimetype": "text/x-python",
      "name": "python",
      "nbconvert_exporter": "python",
      "pygments_lexer": "ipython3",
      "version": "3.7.1"
    },
    "colab": {
      "name": "SVC_gridsearch.ipynb",
      "provenance": [],
      "collapsed_sections": [],
      "include_colab_link": true
    }
  },
  "cells": [
    {
      "cell_type": "markdown",
      "metadata": {
        "id": "view-in-github",
        "colab_type": "text"
      },
      "source": [
        "<a href=\"https://colab.research.google.com/github/mattjacobs23/IntroML/blob/main/SVC_gridsearch.ipynb\" target=\"_parent\"><img src=\"https://colab.research.google.com/assets/colab-badge.svg\" alt=\"Open In Colab\"/></a>"
      ]
    },
    {
      "cell_type": "markdown",
      "metadata": {
        "id": "9BkjBip-gBz4"
      },
      "source": [
        "## Support Vector Machines: Fit and evaluate a model\n",
        "\n",
        "Using the Titanic dataset from [this](https://www.kaggle.com/c/titanic/overview) Kaggle competition.\n",
        "\n",
        "In this section, we will fit and evaluate a simple Support Vector Machines model."
      ]
    },
    {
      "cell_type": "markdown",
      "metadata": {
        "id": "E6pC-AXbgBz-"
      },
      "source": [
        "### Read in Data\n",
        "\n",
        "![CV](../../img/CV.png)\n",
        "![Cross-Val](../../img/Cross-Val.png)"
      ]
    },
    {
      "cell_type": "code",
      "metadata": {
        "id": "zWd6I2opgBz_"
      },
      "source": [
        "import joblib\n",
        "import pandas as pd\n",
        "from sklearn.model_selection import GridSearchCV\n",
        "from sklearn.svm import SVC\n",
        "import warnings\n",
        "warnings.filterwarnings('ignore', category=FutureWarning)\n",
        "warnings.filterwarnings('ignore', category=DeprecationWarning)\n",
        "\n",
        "tr_features = pd.read_csv('/content/drive/MyDrive/train_features.csv')\n",
        "tr_labels = pd.read_csv('/content/drive/MyDrive/train_labels.csv', header=None)"
      ],
      "execution_count": null,
      "outputs": []
    },
    {
      "cell_type": "code",
      "metadata": {
        "colab": {
          "base_uri": "https://localhost:8080/"
        },
        "id": "YieTV5T0inDB",
        "outputId": "99991dcc-5efe-4f00-bb36-aed9e79fea1a"
      },
      "source": [
        "from google.colab import drive\n",
        "drive.mount('/content/drive')"
      ],
      "execution_count": null,
      "outputs": [
        {
          "output_type": "stream",
          "text": [
            "Mounted at /content/drive\n"
          ],
          "name": "stdout"
        }
      ]
    },
    {
      "cell_type": "markdown",
      "metadata": {
        "id": "_ue_B_V0gBz_"
      },
      "source": [
        "### Hyperparameter tuning\n",
        "\n",
        "![c](../../img/c.png)"
      ]
    },
    {
      "cell_type": "code",
      "metadata": {
        "id": "FPLB7d1dgB0A"
      },
      "source": [
        "def print_results(results):\n",
        "    print('BEST PARAMS: {}\\n'.format(results.best_params_)) #there is a .best_params_ method built into GridSearchCV\n",
        "\n",
        "    means = results.cv_results_['mean_test_score'] #can extract mean and std of test scores from results\n",
        "    stds = results.cv_results_['std_test_score']\n",
        "    for mean, std, params in zip(means, stds, results.cv_results_['params']):\n",
        "        print('{} (+/-{}) for {}'.format(round(mean, 3), round(std * 2, 3), params))"
      ],
      "execution_count": null,
      "outputs": []
    },
    {
      "cell_type": "code",
      "metadata": {
        "colab": {
          "base_uri": "https://localhost:8080/"
        },
        "id": "0WXOsP8ggB0A",
        "outputId": "eeec38cc-093f-48e5-eec8-830c47525e7f"
      },
      "source": [
        "svc = SVC() #classifier\n",
        "parameters = {\n",
        "    'kernel': ['linear', 'rbf'],\n",
        "    'C': [0.1, 1, 10]\n",
        "}\n",
        "#SVM is slow to train, even on this small training set\n",
        "cv = GridSearchCV(svc, parameters, cv=5)\n",
        "#standard api requires .fit() pass ing train features and labels\n",
        "cv.fit(tr_features, tr_labels.values.ravel())\n",
        "# this will convert labels from column vector to array\n",
        "# this grabs first hyperparam combination, pass into svc, use that and run cross validaiton\n",
        "# does that for each hyperparam combo\n",
        "print_results(cv)"
      ],
      "execution_count": null,
      "outputs": [
        {
          "output_type": "stream",
          "text": [
            "BEST PARAMS: {'C': 0.1, 'kernel': 'linear'}\n",
            "\n",
            "0.796 (+/-0.115) for {'C': 0.1, 'kernel': 'linear'}\n",
            "0.654 (+/-0.06) for {'C': 0.1, 'kernel': 'rbf'}\n",
            "0.796 (+/-0.115) for {'C': 1, 'kernel': 'linear'}\n",
            "0.661 (+/-0.048) for {'C': 1, 'kernel': 'rbf'}\n",
            "0.796 (+/-0.115) for {'C': 10, 'kernel': 'linear'}\n",
            "0.684 (+/-0.07) for {'C': 10, 'kernel': 'rbf'}\n"
          ],
          "name": "stdout"
        }
      ]
    },
    {
      "cell_type": "code",
      "metadata": {
        "id": "zITMOItFjwOS"
      },
      "source": [
        "# c hyperparam not having much influence. \n",
        "# So suggests our data is linearly seperable. "
      ],
      "execution_count": null,
      "outputs": []
    },
    {
      "cell_type": "code",
      "metadata": {
        "colab": {
          "base_uri": "https://localhost:8080/"
        },
        "id": "mIwlj1jGj9AT",
        "outputId": "489204e8-c132-4647-c756-d7b73ba2d064"
      },
      "source": [
        "cv.best_estimator_\n",
        "#this is an actual model. Can save it and start making predicitons"
      ],
      "execution_count": null,
      "outputs": [
        {
          "output_type": "execute_result",
          "data": {
            "text/plain": [
              "SVC(C=0.1, break_ties=False, cache_size=200, class_weight=None, coef0=0.0,\n",
              "    decision_function_shape='ovr', degree=3, gamma='scale', kernel='linear',\n",
              "    max_iter=-1, probability=False, random_state=None, shrinking=True,\n",
              "    tol=0.001, verbose=False)"
            ]
          },
          "metadata": {
            "tags": []
          },
          "execution_count": 6
        }
      ]
    },
    {
      "cell_type": "markdown",
      "metadata": {
        "id": "NO17X6rugB0A"
      },
      "source": [
        "### Write out pickled model"
      ]
    },
    {
      "cell_type": "code",
      "metadata": {
        "colab": {
          "base_uri": "https://localhost:8080/"
        },
        "id": "j3B3c4LWgB0B",
        "outputId": "a8cb739f-e0f0-49b1-8262-7ec2df69b52e"
      },
      "source": [
        "joblib.dump(cv.best_estimator_, '/content/drive/MyDrive/SVM_model.pkl')"
      ],
      "execution_count": null,
      "outputs": [
        {
          "output_type": "execute_result",
          "data": {
            "text/plain": [
              "['/content/drive/MyDrive/SVM_model.pkl']"
            ]
          },
          "metadata": {
            "tags": []
          },
          "execution_count": 7
        }
      ]
    }
  ]
}
