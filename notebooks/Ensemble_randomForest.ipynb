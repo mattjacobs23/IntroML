{
  "nbformat": 4,
  "nbformat_minor": 0,
  "metadata": {
    "kernelspec": {
      "display_name": "Python 3",
      "language": "python",
      "name": "python3"
    },
    "language_info": {
      "codemirror_mode": {
        "name": "ipython",
        "version": 3
      },
      "file_extension": ".py",
      "mimetype": "text/x-python",
      "name": "python",
      "nbconvert_exporter": "python",
      "pygments_lexer": "ipython3",
      "version": "3.7.3"
    },
    "colab": {
      "name": "Ensemble_randomForest.ipynb",
      "provenance": [],
      "include_colab_link": true
    }
  },
  "cells": [
    {
      "cell_type": "markdown",
      "metadata": {
        "id": "view-in-github",
        "colab_type": "text"
      },
      "source": [
        "<a href=\"https://colab.research.google.com/github/mattjacobs23/IntroML/blob/main/Ensemble_randomForest.ipynb\" target=\"_parent\"><img src=\"https://colab.research.google.com/assets/colab-badge.svg\" alt=\"Open In Colab\"/></a>"
      ]
    },
    {
      "cell_type": "markdown",
      "metadata": {
        "id": "ayWVu14y3_Jm"
      },
      "source": [
        "# Chapter 6 - Other Popular Machine Learning Methods\n",
        "## Segment 6 - Ensemble methods with random forest\n",
        "\n",
        "This is a classification problem, where in we will be estimating the species label for iris flowers."
      ]
    },
    {
      "cell_type": "code",
      "metadata": {
        "id": "d3nnIxSO3_Js"
      },
      "source": [
        "import numpy as np\n",
        "import pandas as pd\n",
        "\n",
        "import sklearn.datasets as datasets\n",
        "from sklearn.model_selection import train_test_split \n",
        "from sklearn import metrics"
      ],
      "execution_count": null,
      "outputs": []
    },
    {
      "cell_type": "code",
      "metadata": {
        "id": "BvKOgRLr3_Jt"
      },
      "source": [
        "from sklearn.ensemble import RandomForestClassifier"
      ],
      "execution_count": null,
      "outputs": []
    },
    {
      "cell_type": "code",
      "metadata": {
        "colab": {
          "base_uri": "https://localhost:8080/",
          "height": 306
        },
        "id": "J1L2f6173_Jt",
        "outputId": "06360cae-7a0a-44ac-cad8-a0dbf66f6d69"
      },
      "source": [
        "iris = datasets.load_iris()\n",
        "\n",
        "df = pd.DataFrame(iris.data, columns=iris.feature_names)\n",
        "y = pd.DataFrame(iris.target)\n",
        "\n",
        "y.columns = ['labels']\n",
        "\n",
        "print(df.head())\n",
        "y[0:5]"
      ],
      "execution_count": null,
      "outputs": [
        {
          "output_type": "stream",
          "text": [
            "   sepal length (cm)  sepal width (cm)  petal length (cm)  petal width (cm)\n",
            "0                5.1               3.5                1.4               0.2\n",
            "1                4.9               3.0                1.4               0.2\n",
            "2                4.7               3.2                1.3               0.2\n",
            "3                4.6               3.1                1.5               0.2\n",
            "4                5.0               3.6                1.4               0.2\n"
          ],
          "name": "stdout"
        },
        {
          "output_type": "execute_result",
          "data": {
            "text/html": [
              "<div>\n",
              "<style scoped>\n",
              "    .dataframe tbody tr th:only-of-type {\n",
              "        vertical-align: middle;\n",
              "    }\n",
              "\n",
              "    .dataframe tbody tr th {\n",
              "        vertical-align: top;\n",
              "    }\n",
              "\n",
              "    .dataframe thead th {\n",
              "        text-align: right;\n",
              "    }\n",
              "</style>\n",
              "<table border=\"1\" class=\"dataframe\">\n",
              "  <thead>\n",
              "    <tr style=\"text-align: right;\">\n",
              "      <th></th>\n",
              "      <th>labels</th>\n",
              "    </tr>\n",
              "  </thead>\n",
              "  <tbody>\n",
              "    <tr>\n",
              "      <th>0</th>\n",
              "      <td>0</td>\n",
              "    </tr>\n",
              "    <tr>\n",
              "      <th>1</th>\n",
              "      <td>0</td>\n",
              "    </tr>\n",
              "    <tr>\n",
              "      <th>2</th>\n",
              "      <td>0</td>\n",
              "    </tr>\n",
              "    <tr>\n",
              "      <th>3</th>\n",
              "      <td>0</td>\n",
              "    </tr>\n",
              "    <tr>\n",
              "      <th>4</th>\n",
              "      <td>0</td>\n",
              "    </tr>\n",
              "  </tbody>\n",
              "</table>\n",
              "</div>"
            ],
            "text/plain": [
              "   labels\n",
              "0       0\n",
              "1       0\n",
              "2       0\n",
              "3       0\n",
              "4       0"
            ]
          },
          "metadata": {
            "tags": []
          },
          "execution_count": 4
        }
      ]
    },
    {
      "cell_type": "markdown",
      "metadata": {
        "id": "B0xfc3b73_Ju"
      },
      "source": [
        "The data set contains information on the:\n",
        "- sepal length (cm)\n",
        "- sepal width (cm)  \n",
        "- petal length (cm)  \n",
        "- petal width (cm)\n",
        "- species type"
      ]
    },
    {
      "cell_type": "code",
      "metadata": {
        "scrolled": true,
        "colab": {
          "base_uri": "https://localhost:8080/"
        },
        "id": "--or87963_Jv",
        "outputId": "4fb6bb2a-5214-469a-9e27-77e576785664"
      },
      "source": [
        "# making sure we don't have any null values\n",
        "df.isnull().any()==True"
      ],
      "execution_count": null,
      "outputs": [
        {
          "output_type": "execute_result",
          "data": {
            "text/plain": [
              "sepal length (cm)    False\n",
              "sepal width (cm)     False\n",
              "petal length (cm)    False\n",
              "petal width (cm)     False\n",
              "dtype: bool"
            ]
          },
          "metadata": {
            "tags": []
          },
          "execution_count": 5
        }
      ]
    },
    {
      "cell_type": "code",
      "metadata": {
        "colab": {
          "base_uri": "https://localhost:8080/"
        },
        "id": "exZmWeHJ3_Jv",
        "outputId": "42e919ad-ca98-44ac-97c2-53b76e6f05b6"
      },
      "source": [
        "# check how balanced the dataset is\n",
        "print(y.labels.value_counts())"
      ],
      "execution_count": null,
      "outputs": [
        {
          "output_type": "stream",
          "text": [
            "2    50\n",
            "1    50\n",
            "0    50\n",
            "Name: labels, dtype: int64\n"
          ],
          "name": "stdout"
        }
      ]
    },
    {
      "cell_type": "markdown",
      "metadata": {
        "id": "NjxUF4oE3_Jx"
      },
      "source": [
        "# Preparing the data for training the model"
      ]
    },
    {
      "cell_type": "code",
      "metadata": {
        "id": "2zQQriJs3_Jy"
      },
      "source": [
        "X_train, X_test, y_train, y_test = train_test_split(df, y, test_size=.2, random_state=17)"
      ],
      "execution_count": null,
      "outputs": []
    },
    {
      "cell_type": "markdown",
      "metadata": {
        "id": "IVleqbxz3_Jy"
      },
      "source": [
        "# Build a Random Forest model"
      ]
    },
    {
      "cell_type": "code",
      "metadata": {
        "id": "gaB9WDeP3_Jy"
      },
      "source": [
        "classifier = RandomForestClassifier(n_estimators=200, random_state=0)\n",
        "\n",
        "y_train_array = np.ravel(y_train) #reformat target data to conform to requirements of model\n",
        "\n",
        "classifier.fit(X_train, y_train_array) #fitting to the train data\n",
        "\n",
        "y_pred = classifier.predict(X_test) # creating predictions on the test data"
      ],
      "execution_count": null,
      "outputs": []
    },
    {
      "cell_type": "markdown",
      "metadata": {
        "id": "Th2F9VN53_Jy"
      },
      "source": [
        "# Evaluating the model on the test data"
      ]
    },
    {
      "cell_type": "code",
      "metadata": {
        "colab": {
          "base_uri": "https://localhost:8080/"
        },
        "id": "7y8qgRBd3_Jz",
        "outputId": "0f0000fa-0964-45d6-d8ba-a1c6138b7822"
      },
      "source": [
        "print(metrics.classification_report(y_test, y_pred)) #classification_report from metrics"
      ],
      "execution_count": null,
      "outputs": [
        {
          "output_type": "stream",
          "text": [
            "              precision    recall  f1-score   support\n",
            "\n",
            "           0       1.00      1.00      1.00         7\n",
            "           1       0.92      1.00      0.96        11\n",
            "           2       1.00      0.92      0.96        12\n",
            "\n",
            "    accuracy                           0.97        30\n",
            "   macro avg       0.97      0.97      0.97        30\n",
            "weighted avg       0.97      0.97      0.97        30\n",
            "\n"
          ],
          "name": "stdout"
        }
      ]
    },
    {
      "cell_type": "code",
      "metadata": {
        "colab": {
          "base_uri": "https://localhost:8080/"
        },
        "id": "C4dFq0x83_Jz",
        "outputId": "fb900d71-a568-49c4-f701-54a2cdd50855"
      },
      "source": [
        "# visualize the predictions vs real labels\n",
        "y_test_array = np.ravel(y_test)\n",
        "print(y_test_array)"
      ],
      "execution_count": null,
      "outputs": [
        {
          "output_type": "stream",
          "text": [
            "[0 1 2 1 2 2 1 2 1 2 2 0 1 0 2 0 0 2 2 2 2 0 2 1 1 1 1 1 0 1]\n"
          ],
          "name": "stdout"
        }
      ]
    },
    {
      "cell_type": "code",
      "metadata": {
        "colab": {
          "base_uri": "https://localhost:8080/"
        },
        "id": "rQMxVwF43_Jz",
        "outputId": "1443038d-490a-4544-942a-1c818e6d3986"
      },
      "source": [
        "print(y_pred)"
      ],
      "execution_count": null,
      "outputs": [
        {
          "output_type": "stream",
          "text": [
            "[0 1 2 1 2 2 1 2 1 2 2 0 1 0 2 0 0 2 2 2 1 0 2 1 1 1 1 1 0 1]\n"
          ],
          "name": "stdout"
        }
      ]
    },
    {
      "cell_type": "code",
      "metadata": {
        "id": "vkJf3C6O3_J0"
      },
      "source": [
        "# classifier performs very well. "
      ],
      "execution_count": null,
      "outputs": []
    }
  ]
}
